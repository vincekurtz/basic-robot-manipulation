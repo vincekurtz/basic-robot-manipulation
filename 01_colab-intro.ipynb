{
  "nbformat": 4,
  "nbformat_minor": 0,
  "metadata": {
    "colab": {
      "name": "01_colab-intro.ipynb",
      "provenance": [],
      "collapsed_sections": [],
      "toc_visible": true
    },
    "kernelspec": {
      "display_name": "Python 3",
      "name": "python3"
    }
  },
  "cells": [
    {
      "cell_type": "markdown",
      "metadata": {
        "id": "JyG45Qk3qQLS"
      },
      "source": [
        "# Welcome to Google Colab!\n",
        "This is the environment that we'll be using to simulate our robots. It allows us to run python scripts \"in the cloud\" on Google's servers, so you don't need to worry about installing software and dependencies on your own computer. \n",
        "\n",
        "For more details on using Colab, check out the [official introduction](https://colab.research.google.com/notebooks/basic_features_overview.ipynb). "
      ]
    },
    {
      "cell_type": "markdown",
      "metadata": {
        "id": "j0pYKY_R48j_"
      },
      "source": [
        "# Running Some Code\n",
        "\n",
        "Colab notebooks consiste of text blocks (like this one) and code blocks (like the one below). Running code blocks executes the associated code, and prints the output below the block. "
      ]
    },
    {
      "cell_type": "code",
      "metadata": {
        "id": "Kptm1hS05Xe_"
      },
      "source": [
        "print(\"hello world\")"
      ],
      "execution_count": null,
      "outputs": []
    },
    {
      "cell_type": "markdown",
      "metadata": {
        "id": "meA94haf5fYz"
      },
      "source": [
        "You can modify code blocks as you wish to make interesting things happen. For example, try to complete the following function:"
      ]
    },
    {
      "cell_type": "code",
      "metadata": {
        "id": "OkDG7r7R59mb"
      },
      "source": [
        "def greeting():\n",
        "    # Write some code here so that this function prints a friendly greeting\n",
        "\n",
        "greeting()"
      ],
      "execution_count": null,
      "outputs": []
    },
    {
      "cell_type": "markdown",
      "metadata": {
        "id": "pDaz3K2d6RtR"
      },
      "source": [
        "# Saving Your code\n",
        "\n",
        "Now that you've finished writing the `greeting` function above, you might like to save your work. There are a few ways to do this:\n",
        "\n",
        "1. Save locally as an ipython notebook. Go to [File] --> [Download] --> [Dowload .ipynb]. Then you have a copy of this notebook saved to your local machine. You can then open it locally using software like [Jupyter](https://jupyter.org/), though some colab-specific features might not work. You can open it on colab by finding an existing colab notebook and going to [File] --> [Open Notebook] --> [Upload]\n",
        "\n",
        "2. Save to Google Drive. This is as simple as going to [File] --> [Save a copy in Drive]. Once you have your own copy in Google Drive, you can save subsequent changes with Ctrl-S. \n",
        "\n",
        "Give that a try, and make sure your updated `greeting` function has been saved. "
      ]
    },
    {
      "cell_type": "markdown",
      "metadata": {
        "id": "xYhOszNm-HFQ"
      },
      "source": [
        "# A Puzzle\n",
        "\n",
        "Now that you're comfortable with the Colab interface, let's warm up our python skills with a classic puzzle:\n",
        "\n",
        "Write a program that prints all of the integers between 0 and 100. If the number is divisible by 3, print \"foo\" instead of the number. If the number is divisible by 5, print \"bar\" instead of the number. If the number is divisible by 3 and 5, print \"foobar\". "
      ]
    },
    {
      "cell_type": "code",
      "metadata": {
        "id": "LO0UtbOWAAeJ"
      },
      "source": [
        "# Write your foo-bar program here!"
      ],
      "execution_count": null,
      "outputs": []
    }
  ]
}
