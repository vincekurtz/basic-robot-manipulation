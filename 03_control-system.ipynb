{
  "nbformat": 4,
  "nbformat_minor": 0,
  "metadata": {
    "colab": {
      "name": "03_control-system.ipynb",
      "provenance": [],
      "collapsed_sections": [],
      "toc_visible": true
    },
    "kernelspec": {
      "display_name": "Python 3",
      "name": "python3"
    }
  },
  "cells": [
    {
      "cell_type": "markdown",
      "metadata": {
        "id": "fOxocutf7WwK"
      },
      "source": [
        "# Notebook Setup\n",
        "\n",
        "As usual, we need to install Drake and our KinovaStation software, so go ahead and run this cell to do so. "
      ]
    },
    {
      "cell_type": "code",
      "metadata": {
        "cellView": "form",
        "id": "FfvfYwLf7hiB",
        "outputId": "df80b27c-fbf3-422b-ee42-ce75825aec8e",
        "colab": {
          "base_uri": "https://localhost:8080/"
        }
      },
      "source": [
        "#@title Run Notebook Setup\n",
        "import importlib\n",
        "import sys\n",
        "import os\n",
        "from urllib.request import urlretrieve\n",
        "import subprocess\n",
        "import shutil\n",
        "\n",
        "assert 'google.colab' in sys.modules, \"This notebook is meant to be run in google colab!\"\n",
        "\n",
        "drake_url = \"https://drake-packages.csail.mit.edu/tmp/drake-0.27.0-pip-bionic.tar.gz\"\n",
        "if importlib.util.find_spec('pydrake') is None:\n",
        "    # We're in colab and don't have pydrake, so install it on the cloud machine.\n",
        "    if os.path.isdir('/opt/drake'):\n",
        "        shutil.rmtree('/opt/drake')\n",
        "    print(\"Installing Drake\")\n",
        "    urlretrieve(drake_url, 'drake.tar.gz')\n",
        "    subprocess.run(['mkdir', '/opt/drake'])\n",
        "    subprocess.run(['tar', '-xzf', 'drake.tar.gz', '-C', '/opt/drake'], check=True)\n",
        "    \n",
        "    print(\"Installing other dependencies\")\n",
        "    subprocess.run([\"pip3\", \"install\", \"meshcat\"])\n",
        "    subprocess.run(['apt-get', 'update', '-o', 'APT::Acquire::Retries=4', '-qq'], check=True)\n",
        "    with open(\"/opt/drake/share/drake/setup/packages-bionic.txt\", \"r\") as f:\n",
        "        packages = f.read().splitlines()\n",
        "    subprocess.run(['apt-get', 'install', '-o',\n",
        "                    'APT::Acquire::Retries=4', '-o', 'Dpkg::Use-Pty=0',\n",
        "                    '-qy', '--no-install-recommends'] + packages,\n",
        "                    check=True)\n",
        "    \n",
        "    v = sys.version_info\n",
        "    path = f\"/opt/drake/lib/python{v.major}.{v.minor}/site-packages\"\n",
        "    if importlib.util.find_spec('pydrake') is None:\n",
        "        sys.path.append(path)\n",
        "\n",
        "# Start a meshcat server\n",
        "print(\"Starting Meshcat\")\n",
        "from meshcat.servers.zmqserver import start_zmq_server_as_subprocess\n",
        "proc, zmq_url, web_url = start_zmq_server_as_subprocess(server_args=['--ngrok_http_tunnel'])\n",
        "\n",
        "# Clone our github repo\n",
        "install_path = '/opt/kinova_drake'\n",
        "if not os.path.isdir(install_path):\n",
        "    print(\"Cloning github repo\")\n",
        "    subprocess.run(['git','clone','https://github.com/vincekurtz/kinova_drake.git',install_path])\n",
        "sys.path.append(install_path)\n",
        "\n",
        "# Install open3d point cloud library\n",
        "print(\"Installing Open3D\")\n",
        "subprocess.run(['pip3','install','open3d'])\n",
        "\n",
        "print(\"Done!\")"
      ],
      "execution_count": 1,
      "outputs": [
        {
          "output_type": "stream",
          "text": [
            "Installing Drake\n",
            "Installing other dependencies\n",
            "Starting Meshcat\n",
            "Cloning github repo\n",
            "Installing Open3D\n",
            "Done!\n"
          ],
          "name": "stdout"
        }
      ]
    },
    {
      "cell_type": "markdown",
      "metadata": {
        "id": "JahTXmwU7yW-"
      },
      "source": [
        "# All About System Diagrams\n",
        "\n",
        "In the previous notebook, we saw how a KinovaStation object from [this repository](https://github.com/vincekurtz/kinova_drake) could be used to model the robot in simulation. Now we'll take a closer look at how this works. \n",
        "\n",
        "First, let's create a simple KinovaStation instance that we can play around with. "
      ]
    },
    {
      "cell_type": "code",
      "metadata": {
        "id": "B88h73Gf9HQh"
      },
      "source": [
        "from kinova_station import KinovaStation\n",
        "station = KinovaStation(time_step=0.002)\n",
        "station.SetupSinglePegScenario()\n",
        "station.ConnectToMeshcatVisualizer(zmq_url=zmq_url)\n",
        "station.Finalize()"
      ],
      "execution_count": null,
      "outputs": []
    },
    {
      "cell_type": "markdown",
      "metadata": {
        "id": "1rY8m7U-9o40"
      },
      "source": [
        "You can find out the type of any object in python using the `type` command. Let's do that for our station object. "
      ]
    },
    {
      "cell_type": "code",
      "metadata": {
        "id": "txPRv2Mu95Fk"
      },
      "source": [
        "print(type(station))"
      ],
      "execution_count": null,
      "outputs": []
    },
    {
      "cell_type": "markdown",
      "metadata": {
        "id": "QhtO_bhk99I7"
      },
      "source": [
        "You can see that this is an instance of a `KinovaStation` class, which is defined [here](https://github.com/vincekurtz/kinova_drake/blob/master/kinova_station/simulation_station.py). Furthermore, we can see that this class inherits from a pydrake system diagram class.\n",
        "\n",
        "(Need a refresher on classes, objects, and inheritance in python? Check out [this tutorial](https://realpython.com/python3-object-oriented-programming/) or find another one online. If you find a really good tutorial, send it to me! )"
      ]
    },
    {
      "cell_type": "code",
      "metadata": {
        "id": "1ZXKQCeU-Ji4"
      },
      "source": [
        "print(type(station).__bases__)"
      ],
      "execution_count": null,
      "outputs": []
    },
    {
      "cell_type": "markdown",
      "metadata": {
        "id": "BOCtKm4QBtH_"
      },
      "source": [
        "This `Diagram` class is part of [Drake](https://drake.mit.edu/), the underlying software that we use for modeling and control in simulation and on the actual robot. You can read more about the Diagram class in the [Drake documentation](https://drake.mit.edu/pydrake/pydrake.systems.framework.html?#pydrake.systems.framework.Diagram), or in [this tutorial](https://hub.gke2.mybinder.org/user/robotlocomotion-drake-inrx89fz/notebooks/tutorials/dynamical_systems.ipynb) but we'll provide a quick overview here. \n",
        "\n",
        "Basically, a `Diagram` consists of a bunch of blocks with input and output ports. Each block represents some sort of subsystem, which takes the inputs, runs some computations, and sends outputs. \n",
        "\n",
        "You can view a visual representation of a system diagram using the `plot_system_graphviz` command. Let's give that a try with our `station`:\n"
      ]
    },
    {
      "cell_type": "code",
      "metadata": {
        "id": "7KEpLCUiBsyO"
      },
      "source": [
        "from pydrake.all import plot_system_graphviz\n",
        "from matplotlib import pyplot as plt\n",
        "plt.figure(figsize=(20,20))\n",
        "plot_system_graphviz(station)\n",
        "plt.show()"
      ],
      "execution_count": null,
      "outputs": []
    },
    {
      "cell_type": "markdown",
      "metadata": {
        "id": "-K0HS38VExrW"
      },
      "source": [
        "Wow, that looks complicated! Don't worry, you don't need to know the details of all of those components. One of the nice thing about system diagrams is that they can be *abstracted*. That is, we can think of the station itself as a block in a larger diagram with certain inputs and outputs. Then we can just consider these inputs and outputs, without worrying about the details of what is going on inside the station. \n",
        "\n",
        "We can see just the inputs and outputs of the station by adjusting the `max_depth` parameter:"
      ]
    },
    {
      "cell_type": "code",
      "metadata": {
        "id": "pKQGE-5PHZcb"
      },
      "source": [
        "plot_system_graphviz(station, max_depth=0)\n",
        "plt.show()"
      ],
      "execution_count": null,
      "outputs": []
    },
    {
      "cell_type": "markdown",
      "metadata": {
        "id": "G7IZLIWDILQ1"
      },
      "source": [
        "As you can see, our station has four inputs (listed on the left side) and eight outputs (listed on the right side). In the next section, we'll give a brief summary of each of these. "
      ]
    },
    {
      "cell_type": "markdown",
      "metadata": {
        "id": "pAJfBOUwFG2u"
      },
      "source": [
        "# Inputs and Outputs of the `KinovaStation`"
      ]
    },
    {
      "cell_type": "markdown",
      "metadata": {
        "id": "tCHyTqcU78gq"
      },
      "source": [
        "# Creating a Custom Controller Block"
      ]
    },
    {
      "cell_type": "markdown",
      "metadata": {
        "id": "mGyeLYAh8Gf9"
      },
      "source": [
        "# Connecting the Controller"
      ]
    },
    {
      "cell_type": "markdown",
      "metadata": {
        "id": "JyG45Qk3qQLS"
      },
      "source": [
        "# Coming Soon...\n",
        "- Explain input-output ports\n",
        "- Sending commands programmatically (controller class with inputs and outpus)\n",
        "- Challenges: \n",
        "    - Send end-effector to specfic point\n",
        "    - Move in a circle\n",
        "    - Pick up block at known location"
      ]
    }
  ]
}