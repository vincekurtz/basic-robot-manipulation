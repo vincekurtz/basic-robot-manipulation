{
  "nbformat": 4,
  "nbformat_minor": 0,
  "metadata": {
    "colab": {
      "name": "03_control-system.ipynb",
      "provenance": [],
      "collapsed_sections": [],
      "toc_visible": true
    },
    "kernelspec": {
      "display_name": "Python 3",
      "name": "python3"
    }
  },
  "cells": [
    {
      "cell_type": "markdown",
      "metadata": {
        "id": "fOxocutf7WwK"
      },
      "source": [
        "# Notebook Setup\n",
        "\n",
        "As usual, we need to install Drake and our KinovaStation software, so go ahead and run this cell to do so. "
      ]
    },
    {
      "cell_type": "code",
      "metadata": {
        "cellView": "form",
        "id": "FfvfYwLf7hiB",
        "colab": {
          "base_uri": "https://localhost:8080/"
        },
        "outputId": "5d5a2c6a-fe4b-44ce-9b10-c3d7a6c46eb7"
      },
      "source": [
        "#@title Run Notebook Setup\n",
        "import importlib\n",
        "import sys\n",
        "import os\n",
        "from urllib.request import urlretrieve\n",
        "import subprocess\n",
        "import shutil\n",
        "\n",
        "assert 'google.colab' in sys.modules, \"This notebook is meant to be run in google colab!\"\n",
        "\n",
        "drake_url = \"https://drake-packages.csail.mit.edu/tmp/drake-0.27.0-pip-bionic.tar.gz\"\n",
        "if importlib.util.find_spec('pydrake') is None:\n",
        "    # We're in colab and don't have pydrake, so install it on the cloud machine.\n",
        "    if os.path.isdir('/opt/drake'):\n",
        "        shutil.rmtree('/opt/drake')\n",
        "    print(\"Installing Drake\")\n",
        "    urlretrieve(drake_url, 'drake.tar.gz')\n",
        "    subprocess.run(['mkdir', '/opt/drake'])\n",
        "    subprocess.run(['tar', '-xzf', 'drake.tar.gz', '-C', '/opt/drake'], check=True)\n",
        "    \n",
        "    print(\"Installing other dependencies\")\n",
        "    subprocess.run([\"pip3\", \"install\", \"meshcat\"])\n",
        "    subprocess.run(['apt-get', 'update', '-o', 'APT::Acquire::Retries=4', '-qq'], check=True)\n",
        "    with open(\"/opt/drake/share/drake/setup/packages-bionic.txt\", \"r\") as f:\n",
        "        packages = f.read().splitlines()\n",
        "    subprocess.run(['apt-get', 'install', '-o',\n",
        "                    'APT::Acquire::Retries=4', '-o', 'Dpkg::Use-Pty=0',\n",
        "                    '-qy', '--no-install-recommends'] + packages,\n",
        "                    check=True)\n",
        "    \n",
        "    v = sys.version_info\n",
        "    path = f\"/opt/drake/lib/python{v.major}.{v.minor}/site-packages\"\n",
        "    if importlib.util.find_spec('pydrake') is None:\n",
        "        sys.path.append(path)\n",
        "\n",
        "# Start a meshcat server\n",
        "print(\"Starting Meshcat\")\n",
        "from meshcat.servers.zmqserver import start_zmq_server_as_subprocess\n",
        "proc, zmq_url, web_url = start_zmq_server_as_subprocess(server_args=['--ngrok_http_tunnel'])\n",
        "\n",
        "# Clone our github repo\n",
        "install_path = '/opt/kinova_drake'\n",
        "if not os.path.isdir(install_path):\n",
        "    print(\"Cloning github repo\")\n",
        "    subprocess.run(['git','clone','https://github.com/vincekurtz/kinova_drake.git',install_path])\n",
        "sys.path.append(install_path)\n",
        "\n",
        "# Install open3d point cloud library\n",
        "print(\"Installing Open3D\")\n",
        "subprocess.run(['pip3','install','open3d'])\n",
        "\n",
        "print(\"Done!\")"
      ],
      "execution_count": null,
      "outputs": [
        {
          "output_type": "stream",
          "text": [
            "Starting Meshcat\n",
            "Installing Open3D\n",
            "Done!\n"
          ],
          "name": "stdout"
        }
      ]
    },
    {
      "cell_type": "markdown",
      "metadata": {
        "id": "JahTXmwU7yW-"
      },
      "source": [
        "# All About System Diagrams\n",
        "\n",
        "In the previous notebook, we saw how a KinovaStation object from [this repository](https://github.com/vincekurtz/kinova_drake) could be used to model the robot in simulation. Now we'll take a closer look at how this works. \n",
        "\n",
        "First, let's create a simple KinovaStation instance that we can play around with. "
      ]
    },
    {
      "cell_type": "code",
      "metadata": {
        "id": "B88h73Gf9HQh"
      },
      "source": [
        "from kinova_station import KinovaStation\n",
        "station = KinovaStation(time_step=0.002)\n",
        "station.SetupSinglePegScenario()\n",
        "station.ConnectToMeshcatVisualizer(zmq_url=zmq_url)\n",
        "station.Finalize()"
      ],
      "execution_count": null,
      "outputs": []
    },
    {
      "cell_type": "markdown",
      "metadata": {
        "id": "1rY8m7U-9o40"
      },
      "source": [
        "You can find out the type of any object in python using the `type` command. Let's do that for our station object. "
      ]
    },
    {
      "cell_type": "code",
      "metadata": {
        "id": "txPRv2Mu95Fk"
      },
      "source": [
        "print(type(station))"
      ],
      "execution_count": null,
      "outputs": []
    },
    {
      "cell_type": "markdown",
      "metadata": {
        "id": "QhtO_bhk99I7"
      },
      "source": [
        "You can see that this is an instance of a `KinovaStation` class, which is defined [here](https://github.com/vincekurtz/kinova_drake/blob/master/kinova_station/simulation_station.py). Furthermore, we can see that this class inherits from a pydrake system diagram class.\n",
        "\n",
        "(Need a refresher on classes, objects, and inheritance in python? Check out [this tutorial](https://realpython.com/python3-object-oriented-programming/) or find another one online. If you find a really good tutorial, send it to me! )"
      ]
    },
    {
      "cell_type": "code",
      "metadata": {
        "id": "1ZXKQCeU-Ji4"
      },
      "source": [
        "print(type(station).__bases__)"
      ],
      "execution_count": null,
      "outputs": []
    },
    {
      "cell_type": "markdown",
      "metadata": {
        "id": "BOCtKm4QBtH_"
      },
      "source": [
        "This `Diagram` class is part of [Drake](https://drake.mit.edu/), the underlying software that we use for modeling and control in simulation and on the actual robot. You can read more about the Diagram class in the [Drake documentation](https://drake.mit.edu/pydrake/pydrake.systems.framework.html?#pydrake.systems.framework.Diagram), or in [this tutorial](https://hub.gke2.mybinder.org/user/robotlocomotion-drake-inrx89fz/notebooks/tutorials/dynamical_systems.ipynb) but we'll provide a quick overview here. \n",
        "\n",
        "Basically, a `Diagram` consists of a bunch of blocks with input and output ports. Each block represents some sort of subsystem, which takes the inputs, runs some computations, and sends outputs. \n",
        "\n",
        "You can view a visual representation of a system diagram using the `plot_system_graphviz` command. Let's give that a try with our `station`:\n"
      ]
    },
    {
      "cell_type": "code",
      "metadata": {
        "id": "7KEpLCUiBsyO"
      },
      "source": [
        "from pydrake.all import plot_system_graphviz\n",
        "from matplotlib import pyplot as plt\n",
        "plt.figure(figsize=(20,20))\n",
        "plot_system_graphviz(station)\n",
        "plt.show()"
      ],
      "execution_count": null,
      "outputs": []
    },
    {
      "cell_type": "markdown",
      "metadata": {
        "id": "-K0HS38VExrW"
      },
      "source": [
        "Wow, that looks complicated! Don't worry, you don't need to know the details of all of those components. One of the nice thing about system diagrams is that they can be *abstracted*. That is, we can think of the station itself as a block in a larger diagram with certain inputs and outputs. Then we can just consider these inputs and outputs, without worrying about the details of what is going on inside the station. \n",
        "\n",
        "We can see just the inputs and outputs of the station by adjusting the `max_depth` parameter:"
      ]
    },
    {
      "cell_type": "code",
      "metadata": {
        "id": "pKQGE-5PHZcb",
        "colab": {
          "base_uri": "https://localhost:8080/",
          "height": 248
        },
        "outputId": "1fd176de-3150-4dcb-a46f-ae5e56878596"
      },
      "source": [
        "plot_system_graphviz(station, max_depth=0)\n",
        "plt.show()"
      ],
      "execution_count": null,
      "outputs": [
        {
          "output_type": "display_data",
          "data": {
            "image/png": "[encoded data removed]",
            "text/plain": [
              "<Figure size 432x288 with 1 Axes>"
            ]
          },
          "metadata": {
            "tags": [],
            "needs_background": "light"
          }
        }
      ]
    },
    {
      "cell_type": "markdown",
      "metadata": {
        "id": "G7IZLIWDILQ1"
      },
      "source": [
        "As you can see, our station has four inputs (listed on the left side) and eight outputs (listed on the right side). In the next section, we'll give a brief summary of each of these. "
      ]
    },
    {
      "cell_type": "markdown",
      "metadata": {
        "id": "pAJfBOUwFG2u"
      },
      "source": [
        "# Inputs and Outputs of the `KinovaStation`\n",
        "\n",
        "## Outputs\n",
        "\n",
        "Let's first consider the system outputs. These are things that we can measure using sensors on the real robot. \n",
        "\n",
        "The first three outputs have to do with all the joints of the robot:\n",
        "\n",
        "1. `measured_arm_position` - Provides all the joint angles of the robot. Our robot has 7 degrees-of-freedom (i.e., it's 7-DoF robot), so there are 7 joint angles to consider. These are stacked together in a vector which we call $\\mathbf{q}$:\n",
        "\\begin{equation*}\n",
        "    \\mathbf{q} = \n",
        "    \\begin{bmatrix}\n",
        "        q_1 \\\\\n",
        "        q_2 \\\\\n",
        "        \\vdots \\\\\n",
        "        q_7\n",
        "    \\end{bmatrix},\n",
        "\\end{equation*}\n",
        "where $q_1$ is the angle (in radians) of the first joint, $q_2$ is the angle of the second joint, and so on. \n",
        "\n",
        "2. `measured_arm_velocity` - Provides all the joint velocities of the robot. Each joint velocity is the rate of change in the corresponding joint angle. These are stacked together in a similar vector:\n",
        "\\begin{equation*}\n",
        "    \\mathbf{v} = \n",
        "    \\begin{bmatrix}\n",
        "        v_1 \\\\\n",
        "        v_2 \\\\\n",
        "        \\vdots \\\\\n",
        "        v_7\n",
        "    \\end{bmatrix},\n",
        "\\end{equation*}\n",
        "with $v_1$ corresponding to the first joint, $v_2$ corresponding to the second joint, and so on. If you're familiar with calculus, you may recognize that $\\mathbf{v}$ is the derivative of $\\mathbf{q}$, so we often write $\\mathbf{v} = \\dot{\\mathbf{q}}$.\n",
        "\n",
        "3. `measured_arm_torque` - Provides a vector of torques that are applied at each joint:\n",
        "\\begin{equation*}\n",
        "    \\boldsymbol{\\tau} = \n",
        "    \\begin{bmatrix}\n",
        "        \\tau_1 \\\\\n",
        "        \\tau_2 \\\\\n",
        "        \\vdots \\\\\n",
        "        \\tau_7\n",
        "    \\end{bmatrix}.\n",
        "\\end{equation*}\n",
        "\n",
        "The next three outputs have to do with the *end-effector*. The end-effector is basically the \"hand\" position of the robot. In many cases, we care more about what the end-effector is doing than each of the individual joints. \n",
        "\n",
        "4. `measured_ee_pose` - The *pose* refers to position and orientation, in this case of the end-effector. This output port provides a vector of 6 elements. First the orientation is expressed as roll ($r$), pitch ($p$) and yaw ($w$), then the positoin is expressed in 3D cartesian space using the conventional coordinates ($x, y, z$). All of these elements are stacked in one pose vector:\n",
        "\\begin{equation*}\n",
        "    \\mathbf{p} = \n",
        "    \\begin{bmatrix}\n",
        "        r \\\\\n",
        "        p \\\\\n",
        "        w \\\\\n",
        "        x \\\\\n",
        "        y \\\\\n",
        "        z\n",
        "    \\end{bmatrix}.\n",
        "\\end{equation*}\n",
        "\n",
        "5. `measured_ee_twist` - The *twist* is merely the derivative (rate of change) of the pose. You can think of the first three elements as corresponding to the angular velocity of the end-effector, and the second three elements as the linear velocity of the end-effector. \n",
        "\\begin{equation*}\n",
        "    \\dot{\\mathbf{p}} = \n",
        "    \\begin{bmatrix}\n",
        "        \\dot{r} \\\\\n",
        "        \\dot{p} \\\\\n",
        "        \\dot{w} \\\\\n",
        "        \\dot{x} \\\\\n",
        "        \\dot{y} \\\\\n",
        "        \\dot{z}\n",
        "    \\end{bmatrix}.\n",
        "\\end{equation*}\n",
        "\n",
        "6. `measured_ee_wrench` - Finally we have the *wrench*, which is basically the force and torque applied at the end-effector. If $\\mathbf{p}$ is analogous to $\\mathbf{q}$ and $\\dot{\\mathbf{p}}$ is analogous to $\\mathbf{v}$, The wrench $\\mathbf{w}$ is analogous to $\\boldsymbol{\\tau}$. \n",
        "\n",
        "The final two outputs have to do with the gripper. \n",
        "\n",
        "7. `measured_gripper_position` - A single number between 0 and 1. A fully closed gripper corresponds to position 1, and a fully open gripper corresponds to position 0. \n",
        "\n",
        "8. `measured_gripper_velocity` - A single number, representing the derivative (rate of change) of the gripper position as defined above. Negative values open the gripper, while positive values close it. \n",
        "\n",
        "## Inputs\n",
        "\n",
        "While there are technically four inputs to the `Kinovastation`, only two of them are particularly interesting (`ee_target` and `gripper_target`), while the others just determine what sort of command we're sending. \n",
        "\n",
        "1. `ee_target_type` - Determines what sort of end-effector commands we will send. These can be end-effector pose targets, end-effector twist targets, or end-effector wrench targets. We'll primarily use twist targets for now. \n",
        "\n",
        "2. `ee_target` - The command sent to the robot. So for example, if we send a twist type command, the robot will try to move so that the end-effector's linear and angular velocities match the command as well as posisble. \n",
        "\n",
        "3. `gripper_target_type` - Determines what sort of gripper command we'll send. We can send position or velocity commands. \n",
        "\n",
        "4. `gripper_target` - The position or velocity command to send to the gripper. "
      ]
    },
    {
      "cell_type": "markdown",
      "metadata": {
        "id": "tCHyTqcU78gq"
      },
      "source": [
        "# Creating a Custom Controller Block"
      ]
    },
    {
      "cell_type": "markdown",
      "metadata": {
        "id": "mGyeLYAh8Gf9"
      },
      "source": [
        "# Connecting the Controller"
      ]
    },
    {
      "cell_type": "markdown",
      "metadata": {
        "id": "JyG45Qk3qQLS"
      },
      "source": [
        "# Coming Soon...\n",
        "- Explain input-output ports\n",
        "- Sending commands programmatically (controller class with inputs and outpus)\n",
        "- Challenges (distribute throughout notebook)\n",
        "    - What are the units for the joint velocity?\n",
        "    - What is the difference between a pose and a position? Velocity and Twist?\n",
        "    - Go back to the previous notebook and make a picture of the system diagram showing controller and station. Which input and output ports are used? Why do you think we chose those ports?\n",
        "    - Send end-effector to specfic point\n",
        "    - Move in a circle\n",
        "    - Pick up block at known location\n",
        "    - Try changing the end-effector command type. Which is your favorite?"
      ]
    }
  ]
}