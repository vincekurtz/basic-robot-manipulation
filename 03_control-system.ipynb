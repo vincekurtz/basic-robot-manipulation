{
  "nbformat": 4,
  "nbformat_minor": 0,
  "metadata": {
    "colab": {
      "name": "03_control-system.ipynb",
      "provenance": [],
      "collapsed_sections": [],
      "toc_visible": true
    },
    "kernelspec": {
      "display_name": "Python 3",
      "name": "python3"
    }
  },
  "cells": [
    {
      "cell_type": "markdown",
      "metadata": {
        "id": "JyG45Qk3qQLS"
      },
      "source": [
        "# Coming Soon...\n",
        "- Display control system diagram\n",
        "- Explain input-output ports\n",
        "- Sending commands programmatically (controller class with inputs and outpus)\n",
        "- Challenges: \n",
        "    - Send end-effector to specfic point\n",
        "    - Move in a circle\n",
        "    - Pick up block at known location"
      ]
    }
  ]
}