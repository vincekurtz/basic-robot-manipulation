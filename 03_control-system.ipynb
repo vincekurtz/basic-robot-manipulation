{
  "nbformat": 4,
  "nbformat_minor": 0,
  "metadata": {
    "colab": {
      "name": "03_control-system.ipynb",
      "provenance": [],
      "collapsed_sections": [],
      "toc_visible": true
    },
    "kernelspec": {
      "display_name": "Python 3",
      "name": "python3"
    }
  },
  "cells": [
    {
      "cell_type": "markdown",
      "metadata": {
        "id": "JyG45Qk3qQLS"
      },
      "source": [
        "- Display control system diagram",
        "- Explain input-output ports",
        "- Sending commands programmatically (controller class with inputs and outpus)",
        "- Challenges: send end-effector to specfic point, go in circle, pick up block"
      ]
    },
  ]
}
