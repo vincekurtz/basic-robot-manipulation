{
  "nbformat": 4,
  "nbformat_minor": 0,
  "metadata": {
    "colab": {
      "name": "04_camera.ipynb",
      "provenance": [],
      "collapsed_sections": [],
      "toc_visible": true
    },
    "kernelspec": {
      "display_name": "Python 3",
      "name": "python3"
    }
  },
  "cells": [
    {
      "cell_type": "markdown",
      "metadata": {
        "id": "CsNh7f9Chq0K"
      },
      "source": [
        "# Coming Soon...\n",
        "- Interface with camera/depth image\n",
        "    - Viewing the image, operating on it within a control loop\n",
        "- Using OpenCV\n",
        "- Visual servoing"
      ]
    }
  ]
}