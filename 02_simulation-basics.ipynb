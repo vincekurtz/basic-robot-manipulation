{
  "nbformat": 4,
  "nbformat_minor": 0,
  "metadata": {
    "colab": {
      "name": "02_simulation-basics.ipynb",
      "provenance": [],
      "collapsed_sections": [],
      "toc_visible": true
    },
    "kernelspec": {
      "display_name": "Python 3",
      "name": "python3"
    }
  },
  "cells": [
    {
      "cell_type": "markdown",
      "metadata": {
        "id": "TDzBUPzBV2lm"
      },
      "source": [
        "# Simulation Basics\n",
        "\n",
        "In this notebook, we'll introduce you to the basics of running a simulation of a manipulator arm in Colab. Specifically, we'll use a simulation of the [Kinova Gen3](https://www.kinovarobotics.com/en/products/gen3-robot) that we have in the lab. We've tried to make the simulation interface as close as possible to the hardware interface, so it's relatively easy to apply tools you've developed in simulation to the real robot. "
      ]
    },
    {
      "cell_type": "markdown",
      "metadata": {
        "id": "CF9RNXZ-Xgxg"
      },
      "source": [
        "# Notebook Setup\n",
        "\n",
        "Our simulation depends on a bunch of software (most notably [Drake](https://drake.mit.edu/)) that isn't installed by default on Google's servers. The following cell installs this software, which is pretty complex, so it will probably take a minute or two. You'll need to run a similar cell every time you use the simulator. Fortunately, once a cloud machine has been provisioned and the software intalled, it should remain availible to you for 12 hours or so. "
      ]
    },
    {
      "cell_type": "code",
      "metadata": {
        "cellView": "form",
        "id": "cIivhRSL_Z7i",
        "outputId": "52bfc3a8-f609-43ad-9705-eed7fe91e11c",
        "colab": {
          "base_uri": "https://localhost:8080/"
        }
      },
      "source": [
        "#@title Run Notebook Setup\n",
        "import importlib\n",
        "import sys\n",
        "import os\n",
        "from urllib.request import urlretrieve\n",
        "import subprocess\n",
        "import shutil\n",
        "\n",
        "assert 'google.colab' in sys.modules, \"This notebook is meant to be run in google colab!\"\n",
        "\n",
        "drake_url = \"https://drake-packages.csail.mit.edu/tmp/drake-0.27.0-pip-bionic.tar.gz\"\n",
        "if importlib.util.find_spec('pydrake') is None:\n",
        "    # We're in colab and don't have pydrake, so install it on the cloud machine.\n",
        "    if os.path.isdir('/opt/drake'):\n",
        "        shutil.rmtree('/opt/drake')\n",
        "    print(\"Installing Drake\")\n",
        "    urlretrieve(drake_url, 'drake.tar.gz')\n",
        "    subprocess.run(['mkdir', '/opt/drake'])\n",
        "    subprocess.run(['tar', '-xzf', 'drake.tar.gz', '-C', '/opt/drake'], check=True)\n",
        "    \n",
        "    print(\"Installing other dependencies\")\n",
        "    subprocess.run([\"pip3\", \"install\", \"meshcat\"])\n",
        "    subprocess.run(['apt-get', 'update', '-o', 'APT::Acquire::Retries=4', '-qq'], check=True)\n",
        "    with open(\"/opt/drake/share/drake/setup/packages-bionic.txt\", \"r\") as f:\n",
        "        packages = f.read().splitlines()\n",
        "    subprocess.run(['apt-get', 'install', '-o',\n",
        "                    'APT::Acquire::Retries=4', '-o', 'Dpkg::Use-Pty=0',\n",
        "                    '-qy', '--no-install-recommends'] + packages,\n",
        "                    check=True)\n",
        "    \n",
        "    v = sys.version_info\n",
        "    path = f\"/opt/drake/lib/python{v.major}.{v.minor}/site-packages\"\n",
        "    if importlib.util.find_spec('pydrake') is None:\n",
        "        sys.path.append(path)\n",
        "\n",
        "# Start a meshcat server\n",
        "print(\"Starting Meshcat\")\n",
        "from meshcat.servers.zmqserver import start_zmq_server_as_subprocess\n",
        "proc, zmq_url, web_url = start_zmq_server_as_subprocess(server_args=['--ngrok_http_tunnel'])\n",
        "\n",
        "# Clone our github repo\n",
        "install_path = '/opt/kinova_station'\n",
        "if not os.path.isdir(install_path):\n",
        "    print(\"Cloning github repo\")\n",
        "    subprocess.run(['git','clone','https://github.com/vincekurtz/kinova_station.git',install_path])\n",
        "sys.path.append(install_path)\n",
        "\n",
        "print(\"Done!\")"
      ],
      "execution_count": 1,
      "outputs": [
        {
          "output_type": "stream",
          "text": [
            "Installing Drake\n",
            "Installing other dependencies\n",
            "Starting Meshcat\n",
            "Cloning github repo\n",
            "Done!\n"
          ],
          "name": "stdout"
        }
      ]
    },
    {
      "cell_type": "markdown",
      "metadata": {
        "id": "h7MsJS1uAqNe"
      },
      "source": [
        "You don't need to know the details of how the setup cell above works, but if you want to check them you you can just double click the cell. "
      ]
    },
    {
      "cell_type": "markdown",
      "metadata": {
        "id": "hZvWfMw8hHrZ"
      },
      "source": [
        "# Viewing the Simulator"
      ]
    },
    {
      "cell_type": "markdown",
      "metadata": {
        "id": "VkzUlGEhBH5P"
      },
      "source": [
        "One of the things that the setup code above did was define a variable called `web_url` which is a web address where you can view the simulator. The easiest way to do this is probably to open the URL in a new tab. For now it should be just a blank environment with a grid, a blue background, and nothing else. "
      ]
    },
    {
      "cell_type": "code",
      "metadata": {
        "id": "-cH37pHOA8nL"
      },
      "source": [
        "web_url"
      ],
      "execution_count": null,
      "outputs": []
    },
    {
      "cell_type": "markdown",
      "metadata": {
        "id": "RqEVdFBaBuTe"
      },
      "source": [
        "Alternatively, you can embed the `web_url` in an html `iframe`, which allows you to view the simulator in this page, using the code below."
      ]
    },
    {
      "cell_type": "code",
      "metadata": {
        "id": "se8iuBt_CMPk"
      },
      "source": [
        "import IPython\n",
        "width=800\n",
        "height=400\n",
        "if web_url[:5] != 'https':\n",
        "    web_url = 'https' + web_url[4:]\n",
        "iframe = '<iframe src=' + web_url + ' width=' + str(width) + ' height=' + str(height) + '></iframe>'\n",
        "IPython.display.HTML(iframe)"
      ],
      "execution_count": null,
      "outputs": []
    },
    {
      "cell_type": "markdown",
      "metadata": {
        "id": "rB803tFKhNDh"
      },
      "source": [
        "# Controlling the Robot Manually\n",
        "\n",
        "(try to pick up the block)"
      ]
    }
  ]
}