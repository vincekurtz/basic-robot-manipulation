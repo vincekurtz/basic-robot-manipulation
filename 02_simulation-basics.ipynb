{
  "nbformat": 4,
  "nbformat_minor": 0,
  "metadata": {
    "colab": {
      "name": "02_simulation-basics.ipynb",
      "provenance": [],
      "collapsed_sections": [],
      "toc_visible": true
    },
    "kernelspec": {
      "display_name": "Python 3",
      "name": "python3"
    }
  },
  "cells": [
    {
      "cell_type": "markdown",
      "metadata": {
        "id": "TDzBUPzBV2lm"
      },
      "source": [
        "# Simulation Basics\n",
        "\n",
        "In this notebook, we'll introduce you to the basics of running a simulation of a manipulator arm in Colab. Specifically, we'll use a simulation of the [Kinova Gen3](https://www.kinovarobotics.com/en/products/gen3-robot) that we have in the lab. We've tried to make the simulation interface as close as possible to the hardware interface, so it's relatively easy to apply tools you've developed in simulation to the real robot. "
      ]
    },
    {
      "cell_type": "markdown",
      "metadata": {
        "id": "CF9RNXZ-Xgxg"
      },
      "source": [
        "# Notebook Setup\n",
        "\n",
        "Our simulation depends on a bunch of software (most notably [Drake](https://drake.mit.edu/)) that isn't installed by default on Google's servers. The following cell installs this software, which is pretty complex, so it will probably take a minute or two. You'll need to run a similar cell every time you use the simulator. Fortunately, once a cloud machine has been provisioned and the software intalled, it should remain availible to you for 12 hours or so. "
      ]
    },
    {
      "cell_type": "code",
      "metadata": {
        "colab": {
          "base_uri": "https://localhost:8080/"
        },
        "cellView": "form",
        "id": "cIivhRSL_Z7i",
        "outputId": "58fbcbe2-a948-49d0-f720-a2ac524fcd2c"
      },
      "source": [
        "#@title Run Notebook Setup\n",
        "import importlib\n",
        "import sys\n",
        "import os\n",
        "from urllib.request import urlretrieve\n",
        "import subprocess\n",
        "import shutil\n",
        "\n",
        "assert 'google.colab' in sys.modules, \"This notebook is meant to be run in google colab!\"\n",
        "\n",
        "drake_url = \"https://drake-packages.csail.mit.edu/tmp/drake-0.27.0-pip-bionic.tar.gz\"\n",
        "if importlib.util.find_spec('pydrake') is None:\n",
        "    # We're in colab and don't have pydrake, so install it on the cloud machine.\n",
        "    if os.path.isdir('/opt/drake'):\n",
        "        shutil.rmtree('/opt/drake')\n",
        "    print(\"Installing Drake\")\n",
        "    urlretrieve(drake_url, 'drake.tar.gz')\n",
        "    subprocess.run(['mkdir', '/opt/drake'])\n",
        "    subprocess.run(['tar', '-xzf', 'drake.tar.gz', '-C', '/opt/drake'], check=True)\n",
        "    \n",
        "    print(\"Installing other dependencies\")\n",
        "    subprocess.run([\"pip3\", \"install\", \"meshcat\"])\n",
        "    subprocess.run(['apt-get', 'update', '-o', 'APT::Acquire::Retries=4', '-qq'], check=True)\n",
        "    with open(\"/opt/drake/share/drake/setup/packages-bionic.txt\", \"r\") as f:\n",
        "        packages = f.read().splitlines()\n",
        "    subprocess.run(['apt-get', 'install', '-o',\n",
        "                    'APT::Acquire::Retries=4', '-o', 'Dpkg::Use-Pty=0',\n",
        "                    '-qy', '--no-install-recommends'] + packages,\n",
        "                    check=True)\n",
        "    \n",
        "    v = sys.version_info\n",
        "    path = f\"/opt/drake/lib/python{v.major}.{v.minor}/site-packages\"\n",
        "    if importlib.util.find_spec('pydrake') is None:\n",
        "        sys.path.append(path)\n",
        "\n",
        "# Start a meshcat server\n",
        "print(\"Starting Meshcat\")\n",
        "from meshcat.servers.zmqserver import start_zmq_server_as_subprocess\n",
        "proc, zmq_url, web_url = start_zmq_server_as_subprocess(server_args=['--ngrok_http_tunnel'])\n",
        "\n",
        "# Clone our github repo\n",
        "install_path = '/opt/kinova_drake'\n",
        "if not os.path.isdir(install_path):\n",
        "    print(\"Cloning github repo\")\n",
        "    subprocess.run(['git','clone','https://github.com/vincekurtz/kinova_drake.git',install_path])\n",
        "sys.path.append(install_path)\n",
        "\n",
        "# Install open3d point cloud library\n",
        "print(\"Installing Open3D\")\n",
        "subprocess.run(['pip3','install','open3d'])\n",
        "\n",
        "print(\"Done!\")"
      ],
      "execution_count": 1,
      "outputs": [
        {
          "output_type": "stream",
          "text": [
            "Installing Drake\n",
            "Installing other dependencies\n",
            "Starting Meshcat\n",
            "Cloning github repo\n",
            "Installing Open3D\n",
            "Done!\n"
          ],
          "name": "stdout"
        }
      ]
    },
    {
      "cell_type": "markdown",
      "metadata": {
        "id": "h7MsJS1uAqNe"
      },
      "source": [
        "You don't need to know the details of how the setup cell above works, but if you want to check them out you can just double click the cell. "
      ]
    },
    {
      "cell_type": "markdown",
      "metadata": {
        "id": "hZvWfMw8hHrZ"
      },
      "source": [
        "# Viewing the Simulator"
      ]
    },
    {
      "cell_type": "markdown",
      "metadata": {
        "id": "VkzUlGEhBH5P"
      },
      "source": [
        "One of the things that the setup code above did was define a variable called `web_url` which is a web address where you can view the simulator. The easiest way to do this is probably to open the URL in a new tab. For now it should be just a blank environment with a grid, a blue background, and nothing else. "
      ]
    },
    {
      "cell_type": "code",
      "metadata": {
        "id": "-cH37pHOA8nL"
      },
      "source": [
        "web_url"
      ],
      "execution_count": null,
      "outputs": []
    },
    {
      "cell_type": "markdown",
      "metadata": {
        "id": "RqEVdFBaBuTe"
      },
      "source": [
        "Alternatively, you can embed the `web_url` in an html `iframe`, which allows you to view the simulator in this page, using the code below."
      ]
    },
    {
      "cell_type": "code",
      "metadata": {
        "id": "se8iuBt_CMPk"
      },
      "source": [
        "import IPython\n",
        "width=800\n",
        "height=400\n",
        "if web_url[:5] != 'https':\n",
        "    web_url = 'https' + web_url[4:]\n",
        "iframe = '<iframe src=' + web_url + ' width=' + str(width) + ' height=' + str(height) + '></iframe>'\n",
        "IPython.display.HTML(iframe)"
      ],
      "execution_count": null,
      "outputs": []
    },
    {
      "cell_type": "markdown",
      "metadata": {
        "id": "YDrHJF0GCkb-"
      },
      "source": [
        "# Running a Simulation\n",
        "\n",
        "Now for the fun part, where we set up and run a simulation of our Kinova Gen3 robot! "
      ]
    },
    {
      "cell_type": "markdown",
      "metadata": {
        "id": "Bq6fzgX5d8DX"
      },
      "source": [
        "First we'll set up a `KinovaStation` object. This object provides our basic interface with the robot and other objects in the simulated environment. The `KinovaStation` is defined in [this package](https://github.com/vincekurtz/kinova_drake), which we installed as part of the notebook setup. Feel free to take a look at the souce code if you're interested. \n",
        "\n",
        "Specifically, we'll set up a scenario in which we have the robot, a simple gripper, and a single peg. We'll use a timestep of 0.002 seconds to run the simulation. You can learn more about the `KinovaStation` class by looking at the souce code [here](https://github.com/vincekurtz/kinova_drake/blob/master/kinova_station/simulation_station.py)."
      ]
    },
    {
      "cell_type": "code",
      "metadata": {
        "id": "DZ7VBIa0C0TD",
        "colab": {
          "base_uri": "https://localhost:8080/"
        },
        "outputId": "4fcf3f59-e0c9-4995-8df8-577957d77e39"
      },
      "source": [
        "from kinova_station import KinovaStation\n",
        "\n",
        "station = KinovaStation(time_step=0.002)\n",
        "station.SetupSinglePegScenario()\n",
        "station.ConnectToMeshcatVisualizer(start_server=False)\n",
        "station.Finalize()"
      ],
      "execution_count": 11,
      "outputs": [
        {
          "output_type": "stream",
          "text": [
            "Connecting to meshcat-server at zmq_url=tcp://127.0.0.1:6000...\n",
            "You can open the visualizer by visiting the following URL:\n",
            "http://2378e0d5f344.ngrok.io/static/\n",
            "Connected to meshcat-server.\n"
          ],
          "name": "stdout"
        }
      ]
    },
    {
      "cell_type": "markdown",
      "metadata": {
        "id": "ZdaYUqsoeAVu"
      },
      "source": [
        "Now we'll create a simple controller. This simple controller is defined by a command sequence which we call `cs`. This command sequence is basically a list of `Command` objects, which define a target pose (position and orientation), the amount of time this target should be sent to the robot for, and whether the gripper should be open or closed. \n",
        "\n",
        "The controller also has two parameters `Kp` and `Kd`, which are proportional and derivative gains for the low-level controller. \n",
        "\n",
        "The controller class is defined [here](https://github.com/vincekurtz/kinova_drake/blob/master/controllers/command_sequence_controller.py) if you want to read more about it. \n",
        "\n"
      ]
    },
    {
      "cell_type": "code",
      "metadata": {
        "id": "EOquWfnpd4_W"
      },
      "source": [
        "import numpy as np\n",
        "from controllers import CommandSequenceController, CommandSequence, Command\n",
        "from kinova_station import EndEffectorTarget\n",
        "\n",
        "cs = CommandSequence([])\n",
        "cs.append(Command(\n",
        "    name=\"move_one\",\n",
        "    target_pose=np.array([0.5*np.pi, 0.0, 0.5*np.pi, 0.5, 0.0, 0.4]),\n",
        "    duration=4,\n",
        "    gripper_closed=False))\n",
        "cs.append(Command(\n",
        "    name=\"move_two\",\n",
        "    target_pose=np.array([0.5*np.pi, 0.0, 0.3*np.pi, 0.5, 0.2, 0.7]),\n",
        "    duration=4,\n",
        "    gripper_closed=True))\n",
        "\n",
        "Kp = 10*np.eye(6)\n",
        "Kd = 2*np.sqrt(Kp)\n",
        "\n",
        "controller = CommandSequenceController(\n",
        "    cs, \n",
        "    Kp=Kp,\n",
        "    Kd=Kd)"
      ],
      "execution_count": 12,
      "outputs": []
    },
    {
      "cell_type": "markdown",
      "metadata": {
        "id": "17wT4nGTeEmQ"
      },
      "source": [
        "Then we connect the controller and the station in one system diagram, so that commands from the controller are sent to the robot and data from the robot is sent to the controller. "
      ]
    },
    {
      "cell_type": "code",
      "metadata": {
        "id": "cHKtNcSWaEDt"
      },
      "source": [
        "from pydrake.all import * \n",
        "\n",
        "builder = DiagramBuilder()\n",
        "station = builder.AddSystem(station)\n",
        "controller = builder.AddSystem(controller)\n",
        "controller.ConnectToStation(builder, station)\n",
        "\n",
        "diagram = builder.Build()\n",
        "diagram_context = diagram.CreateDefaultContext()"
      ],
      "execution_count": 13,
      "outputs": []
    },
    {
      "cell_type": "markdown",
      "metadata": {
        "id": "cZo6vbT2eNQi"
      },
      "source": [
        "Finally, we set some initial positions for the robot and a simulated peg, and initialize the simulation. "
      ]
    },
    {
      "cell_type": "code",
      "metadata": {
        "id": "EhHbWIlLmHky"
      },
      "source": [
        "station.go_home(diagram, diagram_context, name=\"Home\")\n",
        "station.SetManipulandStartPositions(diagram, diagram_context)\n",
        "\n",
        "simulator = Simulator(diagram, diagram_context)\n",
        "simulator.set_target_realtime_rate(1.0)\n",
        "simulator.set_publish_every_time_step(False)"
      ],
      "execution_count": 14,
      "outputs": []
    },
    {
      "cell_type": "markdown",
      "metadata": {
        "id": "zDKmjj51mGBw"
      },
      "source": [
        "And run the simulation!"
      ]
    },
    {
      "cell_type": "code",
      "metadata": {
        "id": "DRsHd3VqmXJX"
      },
      "source": [
        "simulator.Initialize()\n",
        "simulator.AdvanceTo(10.0)"
      ],
      "execution_count": null,
      "outputs": []
    },
    {
      "cell_type": "markdown",
      "metadata": {
        "id": "rB803tFKhNDh"
      },
      "source": [
        "# Challenges\n",
        "\n",
        "- Modify the controller so that the robot picks up the block, moves it to a new location, and drops it.\n",
        "- Find an online introduction to PD/PID controllers. What are the parameters `Kp` and `Kd` doing? What happens when you change them?\n",
        "- Try different values for the `time_step`. What happens when the timestep is very large or very small?\n",
        "- Break the simulation in at least 2 different ways (not syntax/programming errors). Why does what you do break the simulation?\n",
        "- Try moving the target position outside the robot's workspace. What happens? Research \"inverse kinematics\" and why they might fail in certain situations. "
      ]
    }
  ]
}